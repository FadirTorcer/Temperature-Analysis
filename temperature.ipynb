{
 "cells": [
  {
   "cell_type": "code",
   "execution_count": null,
   "metadata": {},
   "outputs": [],
   "source": [
    "# statistical analysis of temperature data, QuantPy on YouTube\n",
    "# heating degree days (HDD), cooling degree days (CDD) \"average\" Temperature = Tmax + Tmin / 2\n",
    "\n",
    "# KANSAS CITY ?, 1889-01-01 to 12/31/1933\n",
    "# KANSAS CITY DOWNTOWN AIRPORT, 1/1/1934 to 9/30/1972\n",
    "# KANSAS CITY INTL AIRPORT, 10/1/1972 to 12/31/2021\n",
    "\n",
    "# Tmax, Tmin, Precipitation\n",
    "\n",
    "import numpy as np\n",
    "import pandas as pd\n",
    "import matplotlib.pyplot as plt\n",
    "\n",
    "kansas_city = pd.read_csv(\"data/USW00003947.csv\")"
   ]
  },
  {
   "cell_type": "markdown",
   "metadata": {},
   "source": [
    "### Check for missing data"
   ]
  },
  {
   "cell_type": "code",
   "execution_count": null,
   "metadata": {},
   "outputs": [],
   "source": [
    "### Checking for missing max and min temperatures #was 63 and 56 with 54 misaligned; restricted to KCI there are 0\n",
    "max_temp = kansas_city[[\"Date\",\"tmax\"]]\n",
    "min_temp = kansas_city[[\"Date\",\"tmin\"]]\n",
    "print(max_temp.isnull().value_counts())\n",
    "print(min_temp.isnull().value_counts())\n",
    "\n",
    "count = 0\n",
    "for mx, mn in zip(np.where(max_temp.isnull())[0], np.where(min_temp.isnull())[0]):\n",
    "    if mx != mn:\n",
    "        count += 1\n",
    "print('\\nNumber of misaligned null values equals', count)\n",
    "###"
   ]
  },
  {
   "cell_type": "markdown",
   "metadata": {},
   "source": [
    "### Calculate average temps and drop missing values"
   ]
  },
  {
   "cell_type": "code",
   "execution_count": null,
   "metadata": {},
   "outputs": [],
   "source": [
    "kansas_city[\"Date\"] = pd.to_datetime(kansas_city[\"Date\"]) #Thanks skbrimmer!\n",
    "kansas_city.set_index(\"Date\", inplace=True)\n",
    "kc_temps = kansas_city[[\"tmax\", \"tmin\"]]\n",
    "\n",
    "def avg_temp(row):\n",
    "    return (row.tmax+row.tmin)/2\n",
    "\n",
    "kc_temps[\"Tavg\"] = kc_temps.apply(avg_temp,axis=1)\n",
    "#drop na values here\n",
    "kc_temps = kc_temps.dropna()\n",
    "print(kc_temps)\n",
    "print(kc_temps.describe())"
   ]
  },
  {
   "cell_type": "markdown",
   "metadata": {},
   "source": [
    "### Flag winter and summer periods"
   ]
  },
  {
   "cell_type": "code",
   "execution_count": null,
   "metadata": {},
   "outputs": [],
   "source": [
    "# why deep copy? does it matter if the same values are referenced, and why do we need completely new bits?\n",
    "kc_temps_season = kc_temps.copy(deep=True)\n",
    "kc_temps_season[\"month\"] = kc_temps_season.index.month\n",
    "mask = (kc_temps_season[\"month\"] >= 4) & (kc_temps_season[\"month\"] <= 9)\n",
    "kc_temps_season[\"summer\"] = np.where(mask,1,0)\n",
    "kc_temps_season[\"winter\"] = np.where(kc_temps_season[\"summer\"] != 1,1,0)\n",
    "print(kc_temps_season)"
   ]
  },
  {
   "cell_type": "markdown",
   "metadata": {},
   "source": [
    "### Visually explore data"
   ]
  },
  {
   "cell_type": "code",
   "execution_count": null,
   "metadata": {},
   "outputs": [],
   "source": [
    "kc_temps[-5000:].plot(figsize=(8,6))\n",
    "plt.show()"
   ]
  },
  {
   "cell_type": "markdown",
   "metadata": {},
   "source": [
    "### Distributions"
   ]
  },
  {
   "cell_type": "code",
   "execution_count": null,
   "metadata": {},
   "outputs": [],
   "source": [
    "plt.figure(figsize=(8,6))\n",
    "kc_temps.tmin.hist(bins=60, alpha=0.6, label=\"Tmin\")\n",
    "kc_temps.tmax.hist(bins=60, alpha=0.6, label=\"Tmax\")\n",
    "kc_temps[\"Tavg\"].hist(bins=60, alpha=0.6, label=\"Tavg\")\n",
    "plt.legend()\n",
    "plt.show()"
   ]
  },
  {
   "cell_type": "markdown",
   "metadata": {},
   "source": [
    "### Summer and Winter"
   ]
  },
  {
   "cell_type": "code",
   "execution_count": null,
   "metadata": {},
   "outputs": [],
   "source": [
    "plt.figure(figsize=(8,6))\n",
    "kc_temps_season[kc_temps_season[\"winter\"] == 1][\"Tavg\"].hist(bins=60, alpha=0.8, label=\"winter\")\n",
    "kc_temps_season[kc_temps_season[\"summer\"] == 1][\"Tavg\"].hist(bins=60, alpha=0.8, label=\"summer\")\n",
    "plt.legend()\n",
    "plt.show()"
   ]
  },
  {
   "cell_type": "markdown",
   "metadata": {},
   "source": [
    "### Investigate temperature records"
   ]
  },
  {
   "cell_type": "code",
   "execution_count": null,
   "metadata": {},
   "outputs": [],
   "source": [
    "# resample by month start, calculate mins and maxes for tmax, tmin and Tavg\n",
    "date_list = kc_temps.index.tolist()\n",
    "mth_kc_temps = pd.DataFrame(data=date_list, index=date_list).resample(\"MS\")[0].agg([min,max])\n",
    "mth_kc_temps[\"month\"] = mth_kc_temps.index.month\n",
    "def min_max_temps(row):\n",
    "    stats = kc_temps[(kc_temps.index >= row[\"min\"]) & (kc_temps.index <= row[\"max\"])].agg([min, max])\n",
    "    row[\"tmax_max\"] = stats.loc[\"max\", \"tmax\"]\n",
    "    row[\"tmax_min\"] = stats.loc[\"min\", \"tmax\"]\n",
    "    row[\"tmin_max\"] = stats.loc[\"max\", \"tmin\"]\n",
    "    row[\"tmin_min\"] = stats.loc[\"min\", \"tmin\"]\n",
    "    row[\"Tavg_max\"] = stats.loc[\"max\", \"Tavg\"]\n",
    "    row[\"Tavg_min\"] = stats.loc[\"min\", \"Tavg\"]\n",
    "    return row\n",
    "\n",
    "mth_kc_temps = mth_kc_temps.apply(min_max_temps,axis=1)\n",
    "mth_kc_temps"
   ]
  },
  {
   "cell_type": "markdown",
   "metadata": {},
   "source": [
    "### Extremes on Record"
   ]
  },
  {
   "cell_type": "code",
   "execution_count": null,
   "metadata": {},
   "outputs": [],
   "source": [
    "grouped_mths_kc = mth_kc_temps.groupby(mth_kc_temps.month)[[\"tmax_max\", \"tmax_min\", \"tmin_max\", \"tmin_min\", \"Tavg_max\", \"Tavg_min\"]].agg([min, max])\n",
    "grouped_mths_kc['months'] = ['Jan','Feb','Mar','Apr','May','Jun','Jul','Aug','Sep','Oct','Nov','Dec']\n",
    "grouped_mths_kc = grouped_mths_kc.set_index('months')\n",
    "print(grouped_mths_kc[[(\"tmax_max\", \"max\"),(\"tmin_min\", \"min\"),(\"tmax_min\", \"min\"),(\"tmin_max\", \"max\")]])"
   ]
  },
  {
   "cell_type": "code",
   "execution_count": null,
   "metadata": {},
   "outputs": [],
   "source": [
    "# Look at the max and min of the Tavg max and min\n",
    "print(grouped_mths_kc[[(\"Tavg_max\", \"max\"),(\"Tavg_max\", \"min\"),(\"Tavg_min\", \"max\"),(\"Tavg_min\", \"min\")]])"
   ]
  },
  {
   "cell_type": "markdown",
   "metadata": {},
   "source": [
    "### Decomposition of temperatures into seasonality and trends"
   ]
  },
  {
   "cell_type": "code",
   "execution_count": null,
   "metadata": {},
   "outputs": [],
   "source": [
    "# Now, decomposition of time-series components\n",
    "# trend - decreasin, constant or increasing?\n",
    "# seasonality - periodic signal\n",
    "# noise - variation in signal not accounted for by trend or seasonailty, a.k.a. \"remainder\"\n",
    "from statsmodels.tsa.seasonal import seasonal_decompose\n",
    "kc_temps.sort_index(inplace=True)\n",
    "print(kc_temps)"
   ]
  },
  {
   "cell_type": "code",
   "execution_count": null,
   "metadata": {},
   "outputs": [],
   "source": [
    "kc_temps[\"Tavg\"].rolling(window = 365*10).mean().plot(figsize=(8,4), color=\"tab:red\", title=\"Rolling mean over a 10 year window\")\n",
    "plt.show()"
   ]
  },
  {
   "cell_type": "code",
   "execution_count": null,
   "metadata": {},
   "outputs": [],
   "source": [
    "kc_temps[\"Tavg\"].rolling(window = 365*10).var().plot(figsize=(8,4), color=\"tab:red\", title=\"Rolling variance over a 10 year window\")\n",
    "plt.show()"
   ]
  },
  {
   "cell_type": "code",
   "execution_count": null,
   "metadata": {},
   "outputs": [],
   "source": [
    "# seasonal decomposition\n",
    "decompose_result = seasonal_decompose(kc_temps['Tavg'], model='additive', period=int(365*10), extrapolate_trend='freq')\n",
    " \n",
    "trend = decompose_result.trend\n",
    "seasonal = decompose_result.seasonal\n",
    "residual = decompose_result.resid\n",
    " \n",
    "decompose_result.plot()\n",
    "plt.show()"
   ]
  },
  {
   "cell_type": "code",
   "execution_count": null,
   "metadata": {},
   "outputs": [],
   "source": [
    "# visualize 10 years\n",
    "years_examine = 365*5\n",
    "start_date = 3*years_examine\n",
    "fig, axs = plt.subplots(3, figsize=(8,6))\n",
    "fig.suptitle('Removed Trend and Seasonality')\n",
    "axs[0].plot(trend[-start_date:-years_examine])\n",
    "axs[1].plot(seasonal[-start_date:-years_examine])\n",
    "axs[1].set_ylim([-25,25])\n",
    "axs[2].plot(residual[-start_date:-years_examine])\n",
    "axs[2].set_ylim([-20,20])\n",
    "plt.show()"
   ]
  },
  {
   "cell_type": "code",
   "execution_count": null,
   "metadata": {},
   "outputs": [],
   "source": [
    "# check residual distribution\n",
    "residual.hist(bins=60, figsize=(8,6))"
   ]
  }
 ],
 "metadata": {
  "kernelspec": {
   "display_name": ".venv",
   "language": "python",
   "name": "python3"
  },
  "language_info": {
   "codemirror_mode": {
    "name": "ipython",
    "version": 3
   },
   "file_extension": ".py",
   "mimetype": "text/x-python",
   "name": "python",
   "nbconvert_exporter": "python",
   "pygments_lexer": "ipython3",
   "version": "3.10.11"
  },
  "orig_nbformat": 4
 },
 "nbformat": 4,
 "nbformat_minor": 2
}
